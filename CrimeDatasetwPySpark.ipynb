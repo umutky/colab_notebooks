{
  "nbformat": 4,
  "nbformat_minor": 0,
  "metadata": {
    "colab": {
      "provenance": [],
      "authorship_tag": "ABX9TyPeErkBDSegNXZ50WLwAzjO",
      "include_colab_link": true
    },
    "kernelspec": {
      "name": "python3",
      "display_name": "Python 3"
    },
    "language_info": {
      "name": "python"
    }
  },
  "cells": [
    {
      "cell_type": "markdown",
      "metadata": {
        "id": "view-in-github",
        "colab_type": "text"
      },
      "source": [
        "<a href=\"https://colab.research.google.com/github/umutky/colab_notebooks/blob/main/CrimeDatasetwPySpark.ipynb\" target=\"_parent\"><img src=\"https://colab.research.google.com/assets/colab-badge.svg\" alt=\"Open In Colab\"/></a>"
      ]
    },
    {
      "cell_type": "code",
      "execution_count": 1,
      "metadata": {
        "id": "VRD50zI5X58e"
      },
      "outputs": [],
      "source": [
        "# Run below commands in google colab\n",
        "# install Java8\n",
        "!apt-get install openjdk-8-jdk-headless -qq > /dev/null\n",
        "# download spark3.0.0\n",
        "!wget -q http://apache.osuosl.org/spark/spark-3.5.0/spark-3.5.0-bin-hadoop3.tgz\n",
        "# unzip it\n",
        "!tar xf spark-3.5.0-bin-hadoop3.tgz\n",
        "# install findspark\n",
        "!pip install -q findspark"
      ]
    },
    {
      "cell_type": "code",
      "source": [
        "import os\n",
        "os.environ[\"JAVA_HOME\"] = \"/usr/lib/jvm/java-8-openjdk-amd64\"\n",
        "os.environ[\"SPARK_HOME\"] = \"/content/spark-3.5.0-bin-hadoop3\""
      ],
      "metadata": {
        "id": "XAz4bLLaX-6N"
      },
      "execution_count": 2,
      "outputs": []
    },
    {
      "cell_type": "code",
      "source": [
        "import pyspark\n",
        "from pyspark.sql import SparkSession"
      ],
      "metadata": {
        "id": "pxg-OhfsHILk"
      },
      "execution_count": 6,
      "outputs": []
    },
    {
      "cell_type": "code",
      "source": [
        "import findspark\n",
        "findspark.init()\n",
        "from pyspark.sql import SparkSession\n",
        "spark = SparkSession.builder.master(\"local[*]\").appName('deneme').getOrCreate()\n",
        "spark"
      ],
      "metadata": {
        "id": "5z6P68nEYB76",
        "colab": {
          "base_uri": "https://localhost:8080/",
          "height": 219
        },
        "outputId": "581a8361-2e54-4a39-96f5-45cba939ba6e"
      },
      "execution_count": 7,
      "outputs": [
        {
          "output_type": "execute_result",
          "data": {
            "text/plain": [
              "<pyspark.sql.session.SparkSession at 0x7ac4584df790>"
            ],
            "text/html": [
              "\n",
              "            <div>\n",
              "                <p><b>SparkSession - in-memory</b></p>\n",
              "                \n",
              "        <div>\n",
              "            <p><b>SparkContext</b></p>\n",
              "\n",
              "            <p><a href=\"http://8e013020e299:4040\">Spark UI</a></p>\n",
              "\n",
              "            <dl>\n",
              "              <dt>Version</dt>\n",
              "                <dd><code>v3.5.0</code></dd>\n",
              "              <dt>Master</dt>\n",
              "                <dd><code>local[*]</code></dd>\n",
              "              <dt>AppName</dt>\n",
              "                <dd><code>deneme</code></dd>\n",
              "            </dl>\n",
              "        </div>\n",
              "        \n",
              "            </div>\n",
              "        "
            ]
          },
          "metadata": {},
          "execution_count": 7
        }
      ]
    },
    {
      "cell_type": "code",
      "source": [
        "!wget https://data.lacity.org/api/views/2nrs-mtv8/rows.csv?accessType=DOWNLOAD \\\n",
        "      -O Crime_Data_from_2020_to_Present.csv"
      ],
      "metadata": {
        "id": "mKsTWFBZY9o-",
        "colab": {
          "base_uri": "https://localhost:8080/"
        },
        "outputId": "8dd35852-d115-4e71-88b4-92315c5e4c54"
      },
      "execution_count": 8,
      "outputs": [
        {
          "output_type": "stream",
          "name": "stdout",
          "text": [
            "--2024-02-12 18:32:32--  https://data.lacity.org/api/views/2nrs-mtv8/rows.csv?accessType=DOWNLOAD\n",
            "Resolving data.lacity.org (data.lacity.org)... 52.206.140.205, 52.206.140.199, 52.206.68.26\n",
            "Connecting to data.lacity.org (data.lacity.org)|52.206.140.205|:443... connected.\n",
            "HTTP request sent, awaiting response... 200 OK\n",
            "Length: unspecified [text/csv]\n",
            "Saving to: ‘Crime_Data_from_2020_to_Present.csv’\n",
            "\n",
            "Crime_Data_from_202     [       <=>          ] 217.50M  4.92MB/s    in 46s     \n",
            "\n",
            "2024-02-12 18:33:18 (4.77 MB/s) - ‘Crime_Data_from_2020_to_Present.csv’ saved [228067544]\n",
            "\n"
          ]
        }
      ]
    },
    {
      "cell_type": "code",
      "source": [
        "data = spark.read.csv('Crime_Data_from_2020_to_Present.csv', header=True, inferSchema=True)"
      ],
      "metadata": {
        "id": "IuAvp8s8EZX0"
      },
      "execution_count": 9,
      "outputs": []
    },
    {
      "cell_type": "code",
      "source": [
        "data.printSchema()"
      ],
      "metadata": {
        "id": "YMqFQWsJEpIz",
        "colab": {
          "base_uri": "https://localhost:8080/"
        },
        "outputId": "bbc236b2-0d1f-43b7-d89c-447306ad65d5"
      },
      "execution_count": 10,
      "outputs": [
        {
          "output_type": "stream",
          "name": "stdout",
          "text": [
            "root\n",
            " |-- DR_NO: integer (nullable = true)\n",
            " |-- Date Rptd: string (nullable = true)\n",
            " |-- DATE OCC: string (nullable = true)\n",
            " |-- TIME OCC: integer (nullable = true)\n",
            " |-- AREA: integer (nullable = true)\n",
            " |-- AREA NAME: string (nullable = true)\n",
            " |-- Rpt Dist No: integer (nullable = true)\n",
            " |-- Part 1-2: integer (nullable = true)\n",
            " |-- Crm Cd: integer (nullable = true)\n",
            " |-- Crm Cd Desc: string (nullable = true)\n",
            " |-- Mocodes: string (nullable = true)\n",
            " |-- Vict Age: integer (nullable = true)\n",
            " |-- Vict Sex: string (nullable = true)\n",
            " |-- Vict Descent: string (nullable = true)\n",
            " |-- Premis Cd: integer (nullable = true)\n",
            " |-- Premis Desc: string (nullable = true)\n",
            " |-- Weapon Used Cd: integer (nullable = true)\n",
            " |-- Weapon Desc: string (nullable = true)\n",
            " |-- Status: string (nullable = true)\n",
            " |-- Status Desc: string (nullable = true)\n",
            " |-- Crm Cd 1: integer (nullable = true)\n",
            " |-- Crm Cd 2: integer (nullable = true)\n",
            " |-- Crm Cd 3: integer (nullable = true)\n",
            " |-- Crm Cd 4: integer (nullable = true)\n",
            " |-- LOCATION: string (nullable = true)\n",
            " |-- Cross Street: string (nullable = true)\n",
            " |-- LAT: double (nullable = true)\n",
            " |-- LON: double (nullable = true)\n",
            "\n"
          ]
        }
      ]
    },
    {
      "cell_type": "code",
      "source": [
        "data.show(5, False)"
      ],
      "metadata": {
        "id": "IrPLS_lZKzFu",
        "colab": {
          "base_uri": "https://localhost:8080/"
        },
        "outputId": "9142afa3-c99e-44f8-ac5b-981d6b1c5dfe"
      },
      "execution_count": 11,
      "outputs": [
        {
          "output_type": "stream",
          "name": "stdout",
          "text": [
            "+---------+----------------------+----------------------+--------+----+---------+-----------+--------+------+----------------------------------------+-------------------+--------+--------+------------+---------+--------------------------------------------+--------------+-----------+------+------------+--------+--------+--------+--------+----------------------------------------+------------+-------+---------+\n",
            "|DR_NO    |Date Rptd             |DATE OCC              |TIME OCC|AREA|AREA NAME|Rpt Dist No|Part 1-2|Crm Cd|Crm Cd Desc                             |Mocodes            |Vict Age|Vict Sex|Vict Descent|Premis Cd|Premis Desc                                 |Weapon Used Cd|Weapon Desc|Status|Status Desc |Crm Cd 1|Crm Cd 2|Crm Cd 3|Crm Cd 4|LOCATION                                |Cross Street|LAT    |LON      |\n",
            "+---------+----------------------+----------------------+--------+----+---------+-----------+--------+------+----------------------------------------+-------------------+--------+--------+------------+---------+--------------------------------------------+--------------+-----------+------+------------+--------+--------+--------+--------+----------------------------------------+------------+-------+---------+\n",
            "|190326475|03/01/2020 12:00:00 AM|03/01/2020 12:00:00 AM|2130    |7   |Wilshire |784        |1       |510   |VEHICLE - STOLEN                        |NULL               |0       |M       |O           |101      |STREET                                      |NULL          |NULL       |AA    |Adult Arrest|510     |998     |NULL    |NULL    |1900 S  LONGWOOD                     AV |NULL        |34.0375|-118.3506|\n",
            "|200106753|02/09/2020 12:00:00 AM|02/08/2020 12:00:00 AM|1800    |1   |Central  |182        |1       |330   |BURGLARY FROM VEHICLE                   |1822 1402 0344     |47      |M       |O           |128      |BUS STOP/LAYOVER (ALSO QUERY 124)           |NULL          |NULL       |IC    |Invest Cont |330     |998     |NULL    |NULL    |1000 S  FLOWER                       ST |NULL        |34.0444|-118.2628|\n",
            "|200320258|11/11/2020 12:00:00 AM|11/04/2020 12:00:00 AM|1700    |3   |Southwest|356        |1       |480   |BIKE - STOLEN                           |0344 1251          |19      |X       |X           |502      |MULTI-UNIT DWELLING (APARTMENT, DUPLEX, ETC)|NULL          |NULL       |IC    |Invest Cont |480     |NULL    |NULL    |NULL    |1400 W  37TH                         ST |NULL        |34.021 |-118.3002|\n",
            "|200907217|05/10/2023 12:00:00 AM|03/10/2020 12:00:00 AM|2037    |9   |Van Nuys |964        |1       |343   |SHOPLIFTING-GRAND THEFT ($950.01 & OVER)|0325 1501          |19      |M       |O           |405      |CLOTHING STORE                              |NULL          |NULL       |IC    |Invest Cont |343     |NULL    |NULL    |NULL    |14000    RIVERSIDE                    DR|NULL        |34.1576|-118.4387|\n",
            "|220614831|08/18/2022 12:00:00 AM|08/17/2020 12:00:00 AM|1200    |6   |Hollywood|666        |2       |354   |THEFT OF IDENTITY                       |1822 1501 0930 2004|28      |M       |H           |102      |SIDEWALK                                    |NULL          |NULL       |IC    |Invest Cont |354     |NULL    |NULL    |NULL    |1900    TRANSIENT                       |NULL        |34.0944|-118.3277|\n",
            "+---------+----------------------+----------------------+--------+----+---------+-----------+--------+------+----------------------------------------+-------------------+--------+--------+------------+---------+--------------------------------------------+--------------+-----------+------+------------+--------+--------+--------+--------+----------------------------------------+------------+-------+---------+\n",
            "only showing top 5 rows\n",
            "\n"
          ]
        }
      ]
    },
    {
      "cell_type": "markdown",
      "source": [
        "**DR_NO**: Unique identifier for each reported crime incident (integer).\n",
        "\n",
        "**Date Rptd**: Date when the crime was reported (string).\n",
        "\n",
        "**DATE OCC**: Date when the crime occurred (string).\n",
        "\n",
        "**TIME OCC**: Time when the crime occurred (integer).\n",
        "\n",
        "**AREA**: Area code where the crime occurred (integer).\n",
        "\n",
        "**AREA NAME**: Name of the area where the crime occurred (string).\n",
        "\n",
        "**Rpt Dist No:** Report district number (integer).\n",
        "\n",
        "**Part 1-2:** Indicator for Part I or Part II crime (integer).\n",
        "\n",
        "**Crm Cd:** Crime code (integer).\n",
        "\n",
        "**Crm Cd Desc:** Description of the crime (string).\n",
        "\n",
        "**Mocodes**: Modus operandi (method or pattern of operation) for the crime (string).\n",
        "\n",
        "**Vict Age**: Age of the victim (integer).\n",
        "\n",
        "**Vict Sex**: Gender of the victim (string).\n",
        "\n",
        "**Vict Descent**: Descent (ethnicity or nationality) of the victim (string).\n",
        "\n",
        "**Premis Cd**: Premise code (integer).\n",
        "\n",
        "**Premis Desc**: Description of the premise where the crime occurred (string).\n",
        "\n",
        "**Weapon Used Cd**: Code for the weapon used (integer).\n",
        "\n",
        "**Weapon Desc**: Description of the weapon used (string).\n",
        "\n",
        "**Status**: Current status of the case (string).\n",
        "\n",
        "**Status Desc:** Description of the current case status (string).\n",
        "\n",
        "**Crm Cd 1-4**: Additional crime codes (integer).\n",
        "\n",
        "**LOCATION**: Location where the crime occurred (string).\n",
        "\n",
        "**Cross Street**: Cross street information (string).\n",
        "\n",
        "**LAT**: Latitude coordinate of the crime location (double).\n",
        "\n",
        "**LON**: Longitude coordinate of the crime location (double)."
      ],
      "metadata": {
        "id": "9gj22d8zMXYq"
      }
    },
    {
      "cell_type": "code",
      "source": [
        "data.columns"
      ],
      "metadata": {
        "colab": {
          "base_uri": "https://localhost:8080/"
        },
        "id": "-qjeLXu-LDGb",
        "outputId": "752ec82c-53e2-49b2-b8e0-d97f4c1d67f6"
      },
      "execution_count": 12,
      "outputs": [
        {
          "output_type": "execute_result",
          "data": {
            "text/plain": [
              "['DR_NO',\n",
              " 'Date Rptd',\n",
              " 'DATE OCC',\n",
              " 'TIME OCC',\n",
              " 'AREA',\n",
              " 'AREA NAME',\n",
              " 'Rpt Dist No',\n",
              " 'Part 1-2',\n",
              " 'Crm Cd',\n",
              " 'Crm Cd Desc',\n",
              " 'Mocodes',\n",
              " 'Vict Age',\n",
              " 'Vict Sex',\n",
              " 'Vict Descent',\n",
              " 'Premis Cd',\n",
              " 'Premis Desc',\n",
              " 'Weapon Used Cd',\n",
              " 'Weapon Desc',\n",
              " 'Status',\n",
              " 'Status Desc',\n",
              " 'Crm Cd 1',\n",
              " 'Crm Cd 2',\n",
              " 'Crm Cd 3',\n",
              " 'Crm Cd 4',\n",
              " 'LOCATION',\n",
              " 'Cross Street',\n",
              " 'LAT',\n",
              " 'LON']"
            ]
          },
          "metadata": {},
          "execution_count": 12
        }
      ]
    },
    {
      "cell_type": "code",
      "source": [
        "new_column_names = [x.lower().replace(' ', '_') for x in data.columns]\n",
        "crime_data = data.toDF(*new_column_names)"
      ],
      "metadata": {
        "id": "_jxnz_ASNCtf"
      },
      "execution_count": 13,
      "outputs": []
    },
    {
      "cell_type": "code",
      "source": [
        "crime_data.printSchema()"
      ],
      "metadata": {
        "colab": {
          "base_uri": "https://localhost:8080/"
        },
        "id": "TPLL84RBOo0v",
        "outputId": "c6647214-f2a5-4c8c-f06e-8a8753236071"
      },
      "execution_count": 14,
      "outputs": [
        {
          "output_type": "stream",
          "name": "stdout",
          "text": [
            "root\n",
            " |-- dr_no: integer (nullable = true)\n",
            " |-- date_rptd: string (nullable = true)\n",
            " |-- date_occ: string (nullable = true)\n",
            " |-- time_occ: integer (nullable = true)\n",
            " |-- area: integer (nullable = true)\n",
            " |-- area_name: string (nullable = true)\n",
            " |-- rpt_dist_no: integer (nullable = true)\n",
            " |-- part_1-2: integer (nullable = true)\n",
            " |-- crm_cd: integer (nullable = true)\n",
            " |-- crm_cd_desc: string (nullable = true)\n",
            " |-- mocodes: string (nullable = true)\n",
            " |-- vict_age: integer (nullable = true)\n",
            " |-- vict_sex: string (nullable = true)\n",
            " |-- vict_descent: string (nullable = true)\n",
            " |-- premis_cd: integer (nullable = true)\n",
            " |-- premis_desc: string (nullable = true)\n",
            " |-- weapon_used_cd: integer (nullable = true)\n",
            " |-- weapon_desc: string (nullable = true)\n",
            " |-- status: string (nullable = true)\n",
            " |-- status_desc: string (nullable = true)\n",
            " |-- crm_cd_1: integer (nullable = true)\n",
            " |-- crm_cd_2: integer (nullable = true)\n",
            " |-- crm_cd_3: integer (nullable = true)\n",
            " |-- crm_cd_4: integer (nullable = true)\n",
            " |-- location: string (nullable = true)\n",
            " |-- cross_street: string (nullable = true)\n",
            " |-- lat: double (nullable = true)\n",
            " |-- lon: double (nullable = true)\n",
            "\n"
          ]
        }
      ]
    },
    {
      "cell_type": "code",
      "source": [
        "crime_data.count()"
      ],
      "metadata": {
        "colab": {
          "base_uri": "https://localhost:8080/"
        },
        "id": "buU7AeinPpav",
        "outputId": "2e9b691d-92d8-49c9-d7d2-c01fc50ee35b"
      },
      "execution_count": 15,
      "outputs": [
        {
          "output_type": "execute_result",
          "data": {
            "text/plain": [
              "892934"
            ]
          },
          "metadata": {},
          "execution_count": 15
        }
      ]
    },
    {
      "cell_type": "code",
      "source": [
        "crime_data.show(5, False)"
      ],
      "metadata": {
        "colab": {
          "base_uri": "https://localhost:8080/"
        },
        "id": "co4XBs_jPVwJ",
        "outputId": "6b0d097a-7a2a-4a0f-990d-a3d2dc23adcb"
      },
      "execution_count": 16,
      "outputs": [
        {
          "output_type": "stream",
          "name": "stdout",
          "text": [
            "+---------+----------------------+----------------------+--------+----+---------+-----------+--------+------+----------------------------------------+-------------------+--------+--------+------------+---------+--------------------------------------------+--------------+-----------+------+------------+--------+--------+--------+--------+----------------------------------------+------------+-------+---------+\n",
            "|dr_no    |date_rptd             |date_occ              |time_occ|area|area_name|rpt_dist_no|part_1-2|crm_cd|crm_cd_desc                             |mocodes            |vict_age|vict_sex|vict_descent|premis_cd|premis_desc                                 |weapon_used_cd|weapon_desc|status|status_desc |crm_cd_1|crm_cd_2|crm_cd_3|crm_cd_4|location                                |cross_street|lat    |lon      |\n",
            "+---------+----------------------+----------------------+--------+----+---------+-----------+--------+------+----------------------------------------+-------------------+--------+--------+------------+---------+--------------------------------------------+--------------+-----------+------+------------+--------+--------+--------+--------+----------------------------------------+------------+-------+---------+\n",
            "|190326475|03/01/2020 12:00:00 AM|03/01/2020 12:00:00 AM|2130    |7   |Wilshire |784        |1       |510   |VEHICLE - STOLEN                        |NULL               |0       |M       |O           |101      |STREET                                      |NULL          |NULL       |AA    |Adult Arrest|510     |998     |NULL    |NULL    |1900 S  LONGWOOD                     AV |NULL        |34.0375|-118.3506|\n",
            "|200106753|02/09/2020 12:00:00 AM|02/08/2020 12:00:00 AM|1800    |1   |Central  |182        |1       |330   |BURGLARY FROM VEHICLE                   |1822 1402 0344     |47      |M       |O           |128      |BUS STOP/LAYOVER (ALSO QUERY 124)           |NULL          |NULL       |IC    |Invest Cont |330     |998     |NULL    |NULL    |1000 S  FLOWER                       ST |NULL        |34.0444|-118.2628|\n",
            "|200320258|11/11/2020 12:00:00 AM|11/04/2020 12:00:00 AM|1700    |3   |Southwest|356        |1       |480   |BIKE - STOLEN                           |0344 1251          |19      |X       |X           |502      |MULTI-UNIT DWELLING (APARTMENT, DUPLEX, ETC)|NULL          |NULL       |IC    |Invest Cont |480     |NULL    |NULL    |NULL    |1400 W  37TH                         ST |NULL        |34.021 |-118.3002|\n",
            "|200907217|05/10/2023 12:00:00 AM|03/10/2020 12:00:00 AM|2037    |9   |Van Nuys |964        |1       |343   |SHOPLIFTING-GRAND THEFT ($950.01 & OVER)|0325 1501          |19      |M       |O           |405      |CLOTHING STORE                              |NULL          |NULL       |IC    |Invest Cont |343     |NULL    |NULL    |NULL    |14000    RIVERSIDE                    DR|NULL        |34.1576|-118.4387|\n",
            "|220614831|08/18/2022 12:00:00 AM|08/17/2020 12:00:00 AM|1200    |6   |Hollywood|666        |2       |354   |THEFT OF IDENTITY                       |1822 1501 0930 2004|28      |M       |H           |102      |SIDEWALK                                    |NULL          |NULL       |IC    |Invest Cont |354     |NULL    |NULL    |NULL    |1900    TRANSIENT                       |NULL        |34.0944|-118.3277|\n",
            "+---------+----------------------+----------------------+--------+----+---------+-----------+--------+------+----------------------------------------+-------------------+--------+--------+------------+---------+--------------------------------------------+--------------+-----------+------+------------+--------+--------+--------+--------+----------------------------------------+------------+-------+---------+\n",
            "only showing top 5 rows\n",
            "\n"
          ]
        }
      ]
    },
    {
      "cell_type": "code",
      "source": [
        "from pyspark.sql.functions import to_timestamp\n",
        "from pyspark.sql.functions import to_date\n",
        "from pyspark.sql.functions import substring\n",
        "from pyspark.sql.types import TimestampType\n",
        "from pyspark.sql.functions import from_unixtime\n",
        "\n",
        "spark.conf.set(\"spark.sql.legacy.timeParserPolicy\", \"LEGACY\")\n",
        "\n",
        "crime_data = crime_data.withColumn(\"date_rptd\", to_date(\"date_rptd\", \"MM/dd/yyyy\"))\n",
        "\n",
        "crime_data = crime_data.withColumn(\"date_occ\", to_date(\"date_occ\", \"MM/dd/yyyy\"))"
      ],
      "metadata": {
        "id": "TpzxGwXmPkMx"
      },
      "execution_count": 17,
      "outputs": []
    },
    {
      "cell_type": "code",
      "source": [
        "crime_data.printSchema()"
      ],
      "metadata": {
        "colab": {
          "base_uri": "https://localhost:8080/"
        },
        "id": "mpgduGOCV3Qo",
        "outputId": "581a4d1f-2f3f-44d7-c933-a76ee7b5170a"
      },
      "execution_count": 18,
      "outputs": [
        {
          "output_type": "stream",
          "name": "stdout",
          "text": [
            "root\n",
            " |-- dr_no: integer (nullable = true)\n",
            " |-- date_rptd: date (nullable = true)\n",
            " |-- date_occ: date (nullable = true)\n",
            " |-- time_occ: integer (nullable = true)\n",
            " |-- area: integer (nullable = true)\n",
            " |-- area_name: string (nullable = true)\n",
            " |-- rpt_dist_no: integer (nullable = true)\n",
            " |-- part_1-2: integer (nullable = true)\n",
            " |-- crm_cd: integer (nullable = true)\n",
            " |-- crm_cd_desc: string (nullable = true)\n",
            " |-- mocodes: string (nullable = true)\n",
            " |-- vict_age: integer (nullable = true)\n",
            " |-- vict_sex: string (nullable = true)\n",
            " |-- vict_descent: string (nullable = true)\n",
            " |-- premis_cd: integer (nullable = true)\n",
            " |-- premis_desc: string (nullable = true)\n",
            " |-- weapon_used_cd: integer (nullable = true)\n",
            " |-- weapon_desc: string (nullable = true)\n",
            " |-- status: string (nullable = true)\n",
            " |-- status_desc: string (nullable = true)\n",
            " |-- crm_cd_1: integer (nullable = true)\n",
            " |-- crm_cd_2: integer (nullable = true)\n",
            " |-- crm_cd_3: integer (nullable = true)\n",
            " |-- crm_cd_4: integer (nullable = true)\n",
            " |-- location: string (nullable = true)\n",
            " |-- cross_street: string (nullable = true)\n",
            " |-- lat: double (nullable = true)\n",
            " |-- lon: double (nullable = true)\n",
            "\n"
          ]
        }
      ]
    },
    {
      "cell_type": "code",
      "source": [
        "print('DataFrame is cached ? : ', crime_data.is_cached)"
      ],
      "metadata": {
        "colab": {
          "base_uri": "https://localhost:8080/"
        },
        "id": "GhQgflAxW1VH",
        "outputId": "e9b899a4-6d48-4f6e-8c16-97a63121d15e"
      },
      "execution_count": 19,
      "outputs": [
        {
          "output_type": "stream",
          "name": "stdout",
          "text": [
            "DataFrame is cached ? :  False\n"
          ]
        }
      ]
    },
    {
      "cell_type": "code",
      "source": [
        "crime_data.cache()\n",
        "print('DataFrame is cached ? : ', crime_data.is_cached)"
      ],
      "metadata": {
        "colab": {
          "base_uri": "https://localhost:8080/"
        },
        "id": "fHJgalP6bJUO",
        "outputId": "1ee69e04-a68b-46d3-a1e5-afe738ef7871"
      },
      "execution_count": 20,
      "outputs": [
        {
          "output_type": "stream",
          "name": "stdout",
          "text": [
            "DataFrame is cached ? :  True\n"
          ]
        }
      ]
    },
    {
      "cell_type": "code",
      "source": [
        "# unchached\n",
        "crime_data.unpersist()\n",
        "print('DataFrame is cached ? : ', crime_data.is_cached)"
      ],
      "metadata": {
        "colab": {
          "base_uri": "https://localhost:8080/"
        },
        "id": "eAaqntxUbRTx",
        "outputId": "9cc7ce81-0e3a-4bf9-fb04-a1b81f96ff0c"
      },
      "execution_count": 21,
      "outputs": [
        {
          "output_type": "stream",
          "name": "stdout",
          "text": [
            "DataFrame is cached ? :  False\n"
          ]
        }
      ]
    },
    {
      "cell_type": "code",
      "source": [],
      "metadata": {
        "id": "ADYrLqvtbfsJ"
      },
      "execution_count": null,
      "outputs": []
    }
  ]
}